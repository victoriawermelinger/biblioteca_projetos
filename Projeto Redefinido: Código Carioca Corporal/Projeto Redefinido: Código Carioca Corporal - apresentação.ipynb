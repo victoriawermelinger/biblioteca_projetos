{
 "cells": [
  {
   "cell_type": "markdown",
   "id": "d7556e40",
   "metadata": {},
   "source": [
    "# **Projeto Redefinido: Código Carioca Corporal**\n",
    "\n",
    "O **Redefinido Código Carioca Corporal** é um projeto pessoal iniciado em 2025 com o objetivo de sair da obesidade, melhorar a saúde e conquistar mais qualidade de vida.\n",
    "\n",
    "Este projeto **visa analisar, de forma técnica e visual, minha jornada de emagrecimento ao longo de 1 ano**, registrando a evolução corporal e os impactos das mudanças de hábitos na minha saúde física.\n",
    "\n",
    "### Metodologia:\n",
    "\n",
    "1. **Coleta de Dados Diária**\n",
    "   Os dados foram registrados diariamente por meio de uma balança de bioimpedância, fornecendo informações detalhadas sobre composição corporal, como peso, percentual de gordura, massa muscular, entre outros indicadores.\n",
    "\n",
    "2. **Organização com Google Forms**\n",
    "   Um formulário estruturado no Google Forms foi utilizado para centralizar e organizar todas as informações relevantes, facilitando o monitoramento e o acompanhamento da evolução.\n",
    "\n",
    "3. **Análise e Tratamento de Dados**\n",
    "   As análises estão sendo realizadas utilizando as linguagens **SQL** e **Python**, com as seguintes plataformas:\n",
    "\n",
    "   * **SQL Server** para armazenamento, consulta e manipulação dos dados.\n",
    "   * **Visual Studio Code (VS Code)** com **Jupyter Notebook** para o desenvolvimento em Python, visualizações gráficas e extração de insights.\n",
    "   * **Power BI** para criação de dashboards interativos e visualizações que acompanham a evolução corporal ao longo do tempo."
   ]
  }
 ],
 "metadata": {
  "language_info": {
   "name": "python"
  }
 },
 "nbformat": 4,
 "nbformat_minor": 5
}
